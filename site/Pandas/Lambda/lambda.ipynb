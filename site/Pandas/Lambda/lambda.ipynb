{
 "cells": [
  {
   "cell_type": "markdown",
   "metadata": {},
   "source": [
    "# Lambda Transformation"
   ]
  },
  {
   "cell_type": "markdown",
   "metadata": {},
   "source": [
    "-------------"
   ]
  },
  {
   "cell_type": "code",
   "execution_count": 3,
   "metadata": {},
   "outputs": [],
   "source": [
    "import pandas as pd\n",
    "import numpy as np\n",
    "import seaborn as sns\n",
    "import matplotlib.pyplot as plt\n",
    "%matplotlib inline"
   ]
  },
  {
   "cell_type": "markdown",
   "metadata": {},
   "source": [
    "####  Load data"
   ]
  },
  {
   "cell_type": "code",
   "execution_count": 4,
   "metadata": {},
   "outputs": [],
   "source": [
    "titanic = pd.read_csv('data/titanic.csv')"
   ]
  },
  {
   "cell_type": "markdown",
   "metadata": {},
   "source": [
    "### Setting Name column as index"
   ]
  },
  {
   "cell_type": "code",
   "execution_count": 6,
   "metadata": {},
   "outputs": [],
   "source": [
    "df1 = titanic.copy(deep =True)"
   ]
  },
  {
   "cell_type": "code",
   "execution_count": 7,
   "metadata": {},
   "outputs": [
    {
     "data": {
      "text/html": [
       "<div>\n",
       "<style scoped>\n",
       "    .dataframe tbody tr th:only-of-type {\n",
       "        vertical-align: middle;\n",
       "    }\n",
       "\n",
       "    .dataframe tbody tr th {\n",
       "        vertical-align: top;\n",
       "    }\n",
       "\n",
       "    .dataframe thead th {\n",
       "        text-align: right;\n",
       "    }\n",
       "</style>\n",
       "<table border=\"1\" class=\"dataframe\">\n",
       "  <thead>\n",
       "    <tr style=\"text-align: right;\">\n",
       "      <th></th>\n",
       "      <th>PassengerId</th>\n",
       "      <th>Survived</th>\n",
       "      <th>Pclass</th>\n",
       "      <th>Sex</th>\n",
       "      <th>Age</th>\n",
       "      <th>SibSp</th>\n",
       "      <th>Parch</th>\n",
       "      <th>Ticket</th>\n",
       "      <th>Fare</th>\n",
       "      <th>Cabin</th>\n",
       "      <th>Embarked</th>\n",
       "    </tr>\n",
       "    <tr>\n",
       "      <th>Name</th>\n",
       "      <th></th>\n",
       "      <th></th>\n",
       "      <th></th>\n",
       "      <th></th>\n",
       "      <th></th>\n",
       "      <th></th>\n",
       "      <th></th>\n",
       "      <th></th>\n",
       "      <th></th>\n",
       "      <th></th>\n",
       "      <th></th>\n",
       "    </tr>\n",
       "  </thead>\n",
       "  <tbody>\n",
       "    <tr>\n",
       "      <th>Braund, Mr. Owen Harris</th>\n",
       "      <td>1</td>\n",
       "      <td>0</td>\n",
       "      <td>3</td>\n",
       "      <td>male</td>\n",
       "      <td>22.0</td>\n",
       "      <td>1</td>\n",
       "      <td>0</td>\n",
       "      <td>A/5 21171</td>\n",
       "      <td>7.2500</td>\n",
       "      <td>NaN</td>\n",
       "      <td>S</td>\n",
       "    </tr>\n",
       "    <tr>\n",
       "      <th>Cumings, Mrs. John Bradley (Florence Briggs Thayer)</th>\n",
       "      <td>2</td>\n",
       "      <td>1</td>\n",
       "      <td>1</td>\n",
       "      <td>female</td>\n",
       "      <td>38.0</td>\n",
       "      <td>1</td>\n",
       "      <td>0</td>\n",
       "      <td>PC 17599</td>\n",
       "      <td>71.2833</td>\n",
       "      <td>C85</td>\n",
       "      <td>C</td>\n",
       "    </tr>\n",
       "  </tbody>\n",
       "</table>\n",
       "</div>"
      ],
      "text/plain": [
       "                                                    PassengerId  Survived  \\\n",
       "Name                                                                        \n",
       "Braund, Mr. Owen Harris                                       1         0   \n",
       "Cumings, Mrs. John Bradley (Florence Briggs Tha...            2         1   \n",
       "\n",
       "                                                    Pclass     Sex   Age  \\\n",
       "Name                                                                       \n",
       "Braund, Mr. Owen Harris                                  3    male  22.0   \n",
       "Cumings, Mrs. John Bradley (Florence Briggs Tha...       1  female  38.0   \n",
       "\n",
       "                                                    SibSp  Parch     Ticket  \\\n",
       "Name                                                                          \n",
       "Braund, Mr. Owen Harris                                 1      0  A/5 21171   \n",
       "Cumings, Mrs. John Bradley (Florence Briggs Tha...      1      0   PC 17599   \n",
       "\n",
       "                                                       Fare Cabin Embarked  \n",
       "Name                                                                        \n",
       "Braund, Mr. Owen Harris                              7.2500   NaN        S  \n",
       "Cumings, Mrs. John Bradley (Florence Briggs Tha...  71.2833   C85        C  "
      ]
     },
     "execution_count": 7,
     "metadata": {},
     "output_type": "execute_result"
    }
   ],
   "source": [
    "df1 = titanic.set_index('Name')\n",
    "df1.head(2)"
   ]
  },
  {
   "cell_type": "markdown",
   "metadata": {},
   "source": [
    "-----------"
   ]
  },
  {
   "cell_type": "markdown",
   "metadata": {},
   "source": [
    "### Lambda Transformation"
   ]
  },
  {
   "cell_type": "code",
   "execution_count": 10,
   "metadata": {},
   "outputs": [
    {
     "data": {
      "text/plain": [
       "Name\n",
       "Braund, Mr. Owen Harris                                       0.72500\n",
       "Cumings, Mrs. John Bradley (Florence Briggs Thayer)           7.12833\n",
       "Heikkinen, Miss. Laina                                        0.79250\n",
       "Futrelle, Mrs. Jacques Heath (Lily May Peel)                  5.31000\n",
       "Allen, Mr. William Henry                                      0.80500\n",
       "Moran, Mr. James                                              0.84583\n",
       "McCarthy, Mr. Timothy J                                       5.18625\n",
       "Palsson, Master. Gosta Leonard                                2.10750\n",
       "Johnson, Mrs. Oscar W (Elisabeth Vilhelmina Berg)             1.11333\n",
       "Nasser, Mrs. Nicholas (Adele Achem)                           3.00708\n",
       "Sandstrom, Miss. Marguerite Rut                               1.67000\n",
       "Bonnell, Miss. Elizabeth                                      2.65500\n",
       "Saundercock, Mr. William Henry                                0.80500\n",
       "Andersson, Mr. Anders Johan                                   3.12750\n",
       "Vestrom, Miss. Hulda Amanda Adolfina                          0.78542\n",
       "Hewlett, Mrs. (Mary D Kingcome)                               1.60000\n",
       "Rice, Master. Eugene                                          2.91250\n",
       "Williams, Mr. Charles Eugene                                  1.30000\n",
       "Vander Planke, Mrs. Julius (Emelia Maria Vandemoortele)       1.80000\n",
       "Masselmani, Mrs. Fatima                                       0.72250\n",
       "Fynney, Mr. Joseph J                                          2.60000\n",
       "Beesley, Mr. Lawrence                                         1.30000\n",
       "McGowan, Miss. Anna \"Annie\"                                   0.80292\n",
       "Sloper, Mr. William Thompson                                  3.55000\n",
       "Palsson, Miss. Torborg Danira                                 2.10750\n",
       "Asplund, Mrs. Carl Oscar (Selma Augusta Emilia Johansson)     3.13875\n",
       "Emir, Mr. Farred Chehab                                       0.72250\n",
       "Fortune, Mr. Charles Alexander                               26.30000\n",
       "O'Dwyer, Miss. Ellen \"Nellie\"                                 0.78792\n",
       "Todoroff, Mr. Lalio                                           0.78958\n",
       "                                                               ...   \n",
       "Giles, Mr. Frederick Edward                                   1.15000\n",
       "Swift, Mrs. Frederick Joel (Margaret Welles Barron)           2.59292\n",
       "Sage, Miss. Dorothy Edith \"Dolly\"                             6.95500\n",
       "Gill, Mr. John William                                        1.30000\n",
       "Bystrom, Mrs. (Karolina)                                      1.30000\n",
       "Duran y More, Miss. Asuncion                                  1.38583\n",
       "Roebling, Mr. Washington Augustus II                          5.04958\n",
       "van Melkebeke, Mr. Philemon                                   0.95000\n",
       "Johnson, Master. Harold Theodor                               1.11333\n",
       "Balkic, Mr. Cerin                                             0.78958\n",
       "Beckwith, Mrs. Richard Leonard (Sallie Monypeny)              5.25542\n",
       "Carlsson, Mr. Frans Olof                                      0.50000\n",
       "Vander Cruyssen, Mr. Victor                                   0.90000\n",
       "Abelson, Mrs. Samuel (Hannah Wizosky)                         2.40000\n",
       "Najib, Miss. Adele Kiamie \"Jane\"                              0.72250\n",
       "Gustafsson, Mr. Alfred Ossian                                 0.98458\n",
       "Petroff, Mr. Nedelio                                          0.78958\n",
       "Laleff, Mr. Kristo                                            0.78958\n",
       "Potter, Mrs. Thomas Jr (Lily Alexenia Wilson)                 8.31583\n",
       "Shelley, Mrs. William (Imanita Parrish Hall)                  2.60000\n",
       "Markun, Mr. Johann                                            0.78958\n",
       "Dahlberg, Miss. Gerda Ulrika                                  1.05167\n",
       "Banfield, Mr. Frederick James                                 1.05000\n",
       "Sutehall, Mr. Henry Jr                                        0.70500\n",
       "Rice, Mrs. William (Margaret Norton)                          2.91250\n",
       "Montvila, Rev. Juozas                                         1.30000\n",
       "Graham, Miss. Margaret Edith                                  3.00000\n",
       "Johnston, Miss. Catherine Helen \"Carrie\"                      2.34500\n",
       "Behr, Mr. Karl Howell                                         3.00000\n",
       "Dooley, Mr. Patrick                                           0.77500\n",
       "Name: Fare, Length: 891, dtype: float64"
      ]
     },
     "execution_count": 10,
     "metadata": {},
     "output_type": "execute_result"
    }
   ],
   "source": [
    "df1['Fare'].apply(lambda x: (10*x**2 + 2*x +4)/10)"
   ]
  },
  {
   "cell_type": "code",
   "execution_count": 19,
   "metadata": {},
   "outputs": [],
   "source": [
    "def newfeature(x):\n",
    "    return 10 + x/3 + x**2"
   ]
  },
  {
   "cell_type": "code",
   "execution_count": 20,
   "metadata": {},
   "outputs": [
    {
     "data": {
      "text/plain": [
       "Name\n",
       "Braund, Mr. Owen Harris                                         64.979167\n",
       "Cumings, Mrs. John Bradley (Florence Briggs Thayer)           5115.069959\n",
       "Heikkinen, Miss. Laina                                          75.447292\n",
       "Futrelle, Mrs. Jacques Heath (Lily May Peel)                  2847.310000\n",
       "Allen, Mr. William Henry                                        77.485833\n",
       "Moran, Mr. James                                                84.362272\n",
       "McCarthy, Mr. Timothy J                                       2717.006406\n",
       "Palsson, Master. Gosta Leonard                                 461.180625\n",
       "Johnson, Mrs. Oscar W (Elisabeth Vilhelmina Berg)              137.661469\n",
       "Nasser, Mrs. Nicholas (Adele Achem)                            924.276613\n",
       "Sandstrom, Miss. Marguerite Rut                                294.456667\n",
       "Bonnell, Miss. Elizabeth                                       723.752500\n",
       "Saundercock, Mr. William Henry                                  77.485833\n",
       "Andersson, Mr. Anders Johan                                    998.550625\n",
       "Vestrom, Miss. Hulda Amanda Adolfina                            74.306524\n",
       "Hewlett, Mrs. (Mary D Kingcome)                                271.333333\n",
       "Rice, Master. Eugene                                           867.973958\n",
       "Williams, Mr. Charles Eugene                                   183.333333\n",
       "Vander Planke, Mrs. Julius (Emelia Maria Vandemoortele)        340.000000\n",
       "Masselmani, Mrs. Fatima                                         64.608958\n",
       "Fynney, Mr. Joseph J                                           694.666667\n",
       "Beesley, Mr. Lawrence                                          183.333333\n",
       "McGowan, Miss. Anna \"Annie\"                                     77.144453\n",
       "Sloper, Mr. William Thompson                                  1282.083333\n",
       "Palsson, Miss. Torborg Danira                                  461.180625\n",
       "Asplund, Mrs. Carl Oscar (Selma Augusta Emilia Johansson)     1005.637656\n",
       "Emir, Mr. Farred Chehab                                         64.608958\n",
       "Fortune, Mr. Charles Alexander                               69266.666667\n",
       "O'Dwyer, Miss. Ellen \"Nellie\"                                   74.708193\n",
       "Todoroff, Mr. Lalio                                             74.975591\n",
       "                                                                 ...     \n",
       "Giles, Mr. Frederick Edward                                    146.083333\n",
       "Swift, Mrs. Frederick Joel (Margaret Welles Barron)            690.966479\n",
       "Sage, Miss. Dorothy Edith \"Dolly\"                             4870.385833\n",
       "Gill, Mr. John William                                         183.333333\n",
       "Bystrom, Mrs. (Karolina)                                       183.333333\n",
       "Duran y More, Miss. Asuncion                                   206.671912\n",
       "Roebling, Mr. Washington Augustus II                          2576.657751\n",
       "van Melkebeke, Mr. Philemon                                    103.416667\n",
       "Johnson, Master. Harold Theodor                                137.661469\n",
       "Balkic, Mr. Cerin                                               74.975591\n",
       "Beckwith, Mrs. Richard Leonard (Sallie Monypeny)              2789.462004\n",
       "Carlsson, Mr. Frans Olof                                        36.666667\n",
       "Vander Cruyssen, Mr. Victor                                     94.000000\n",
       "Abelson, Mrs. Samuel (Hannah Wizosky)                          594.000000\n",
       "Najib, Miss. Adele Kiamie \"Jane\"                                64.608958\n",
       "Gustafsson, Mr. Alfred Ossian                                  110.221711\n",
       "Petroff, Mr. Nedelio                                            74.975591\n",
       "Laleff, Mr. Kristo                                              74.975591\n",
       "Potter, Mrs. Thomas Jr (Lily Alexenia Wilson)                 6953.022292\n",
       "Shelley, Mrs. William (Imanita Parrish Hall)                   694.666667\n",
       "Markun, Mr. Johann                                              74.975591\n",
       "Dahlberg, Miss. Gerda Ulrika                                   124.106546\n",
       "Banfield, Mr. Frederick James                                  123.750000\n",
       "Sutehall, Mr. Henry Jr                                          62.052500\n",
       "Rice, Mrs. William (Margaret Norton)                           867.973958\n",
       "Montvila, Rev. Juozas                                          183.333333\n",
       "Graham, Miss. Margaret Edith                                   920.000000\n",
       "Johnston, Miss. Catherine Helen \"Carrie\"                       567.719167\n",
       "Behr, Mr. Karl Howell                                          920.000000\n",
       "Dooley, Mr. Patrick                                             72.645833\n",
       "Name: Fare, Length: 891, dtype: float64"
      ]
     },
     "execution_count": 20,
     "metadata": {},
     "output_type": "execute_result"
    }
   ],
   "source": [
    "df1['Fare'].apply(newfeature)"
   ]
  }
 ],
 "metadata": {
  "kernelspec": {
   "display_name": "Python 3",
   "language": "python",
   "name": "python3"
  },
  "language_info": {
   "codemirror_mode": {
    "name": "ipython",
    "version": 3
   },
   "file_extension": ".py",
   "mimetype": "text/x-python",
   "name": "python",
   "nbconvert_exporter": "python",
   "pygments_lexer": "ipython3",
   "version": "3.6.4"
  }
 },
 "nbformat": 4,
 "nbformat_minor": 2
}
