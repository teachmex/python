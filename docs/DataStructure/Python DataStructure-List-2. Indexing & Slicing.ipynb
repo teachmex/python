{
 "cells": [
  {
   "cell_type": "markdown",
   "metadata": {},
   "source": [
    "# Python DataStructure-List: 2. Indexing & Slicing"
   ]
  },
  {
   "cell_type": "markdown",
   "metadata": {},
   "source": [
    "--------"
   ]
  },
  {
   "cell_type": "markdown",
   "metadata": {},
   "source": [
    "#### Concept: Introduction to List indexing and slicing: \n",
    "Consider a List L.\n",
    "\n",
    "|Method|Description|\n",
    "|:---:|:---:|\n",
    "|```L[i]```|\tto get an element at ith index|\n",
    "|```L[i:j]```|\tto get elements from ith to jth index|\n",
    "|```L[:i]```|\t to get elements from 0 to ith index|\n",
    "|```L[i:]```|\tto get elements from ith index to the last element|\n",
    "|```L[:]```|\tto get all elements, equivalent to list itself|\n",
    "|```L[-i]```|\tto get an element at ith reverse index|\n",
    "|```L[-i:-j]```| to get elements from reverse index i to j|"
   ]
  },
  {
   "cell_type": "markdown",
   "metadata": {},
   "source": [
    "---------"
   ]
  },
  {
   "cell_type": "markdown",
   "metadata": {},
   "source": [
    "#### Question 1:\n",
    "Describe python list indexing and slicing with an example of each cases: ```List[i], List[i:], List[i:j], List[:j], List[-i], List[-i:-j]```"
   ]
  },
  {
   "cell_type": "markdown",
   "metadata": {},
   "source": [
    "In Python, a list is a collection of values that can be of any data type, including other lists. Lists are ordered and indexed, meaning that each element in a list has a specific position or index, starting from 0. You can access the elements of a list using the index of the element.\n",
    "\n",
    "Here is an example of a list:"
   ]
  },
  {
   "cell_type": "code",
   "execution_count": 3,
   "metadata": {},
   "outputs": [],
   "source": [
    "my_list = [10, 20, 30, 40, 50]"
   ]
  },
  {
   "cell_type": "markdown",
   "metadata": {},
   "source": [
    "To access an element of the list using its index, you can use the following syntax:"
   ]
  },
  {
   "cell_type": "markdown",
   "metadata": {},
   "source": [
    "```element = my_list[i]```"
   ]
  },
  {
   "cell_type": "markdown",
   "metadata": {},
   "source": [
    "Where i is the index of the element you want to access. For example, to access the first element of the list (which has an index of 0), you can use the following code:"
   ]
  },
  {
   "cell_type": "code",
   "execution_count": 5,
   "metadata": {},
   "outputs": [
    {
     "data": {
      "text/plain": [
       "10"
      ]
     },
     "execution_count": 5,
     "metadata": {},
     "output_type": "execute_result"
    }
   ],
   "source": [
    "first_element = my_list[0]  # first_element will be 10\n",
    "first_element"
   ]
  },
  {
   "cell_type": "markdown",
   "metadata": {},
   "source": [
    "You can also use negative indices to access elements of the list, where the index -1 refers to the last element of the list, -2 refers to the second-to-last element, and so on. For example, to access the last element of the list, you can use the following code:\n",
    "\n"
   ]
  },
  {
   "cell_type": "code",
   "execution_count": 6,
   "metadata": {},
   "outputs": [
    {
     "data": {
      "text/plain": [
       "50"
      ]
     },
     "execution_count": 6,
     "metadata": {},
     "output_type": "execute_result"
    }
   ],
   "source": [
    "last_element = my_list[-1]  # last_element will be 50\n",
    "last_element"
   ]
  },
  {
   "cell_type": "markdown",
   "metadata": {},
   "source": [
    "In addition to accessing individual elements of a list, you can also access a range of elements using slicing. To do this, you can use the following syntax:"
   ]
  },
  {
   "cell_type": "markdown",
   "metadata": {},
   "source": [
    "```sublist = my_list[i:j]```"
   ]
  },
  {
   "cell_type": "markdown",
   "metadata": {},
   "source": [
    "Where i is the index of the first element you want to include in the sublist, and j is the index of the element after the last element you want to include in the sublist. For example, to create a sublist that includes the second and third elements of the original list (with indices 1 and 2), you can use the following code:"
   ]
  },
  {
   "cell_type": "code",
   "execution_count": 7,
   "metadata": {},
   "outputs": [
    {
     "data": {
      "text/plain": [
       "[20, 30]"
      ]
     },
     "execution_count": 7,
     "metadata": {},
     "output_type": "execute_result"
    }
   ],
   "source": [
    "sublist = my_list[1:3]  # sublist will be [20, 30]\n",
    "sublist"
   ]
  },
  {
   "cell_type": "markdown",
   "metadata": {},
   "source": [
    "If you omit the value of i or j, the slicing will include all elements from the start or end of the list, respectively. For example, to create a sublist that includes all elements of the original list up to the third element (with index 2), you can use the following code:"
   ]
  },
  {
   "cell_type": "code",
   "execution_count": 9,
   "metadata": {},
   "outputs": [
    {
     "data": {
      "text/plain": [
       "[10, 20, 30]"
      ]
     },
     "execution_count": 9,
     "metadata": {},
     "output_type": "execute_result"
    }
   ],
   "source": [
    "sublist = my_list[:3]  # sublist will be [10, 20, 30]\n",
    "sublist"
   ]
  },
  {
   "cell_type": "markdown",
   "metadata": {},
   "source": [
    "To create a sublist that includes all elements of the original list from the third element (with index 2) to the end of the list, you can use the following code:"
   ]
  },
  {
   "cell_type": "code",
   "execution_count": 10,
   "metadata": {},
   "outputs": [
    {
     "data": {
      "text/plain": [
       "[30, 40, 50]"
      ]
     },
     "execution_count": 10,
     "metadata": {},
     "output_type": "execute_result"
    }
   ],
   "source": [
    "sublist = my_list[2:]  # sublist will be [30, 40, 50]\n",
    "sublist"
   ]
  },
  {
   "cell_type": "markdown",
   "metadata": {},
   "source": [
    "You can also use negative indices in slicing. For example, to create a sublist that includes the last two elements of the original list, you can use the following code:\n"
   ]
  },
  {
   "cell_type": "code",
   "execution_count": 11,
   "metadata": {},
   "outputs": [
    {
     "data": {
      "text/plain": [
       "[40, 50]"
      ]
     },
     "execution_count": 11,
     "metadata": {},
     "output_type": "execute_result"
    }
   ],
   "source": [
    "sublist = my_list[-2:]  # sublist will be [40, 50]\n",
    "sublist"
   ]
  },
  {
   "cell_type": "markdown",
   "metadata": {},
   "source": [
    "To create a sublist that includes all elements of the original list up to the second-to-last element (with index -2), you can use the following code:"
   ]
  },
  {
   "cell_type": "code",
   "execution_count": 12,
   "metadata": {},
   "outputs": [
    {
     "data": {
      "text/plain": [
       "[10, 20, 30]"
      ]
     },
     "execution_count": 12,
     "metadata": {},
     "output_type": "execute_result"
    }
   ],
   "source": [
    "sublist = my_list[:-2]  # sublist will be [10, 20, 30]\n",
    "sublist"
   ]
  },
  {
   "cell_type": "markdown",
   "metadata": {},
   "source": [
    "You can also combine positive and negative indices in slicing. For example, to create"
   ]
  },
  {
   "cell_type": "code",
   "execution_count": 13,
   "metadata": {},
   "outputs": [
    {
     "data": {
      "text/plain": [
       "[30]"
      ]
     },
     "execution_count": 13,
     "metadata": {},
     "output_type": "execute_result"
    }
   ],
   "source": [
    "sublist = my_list[2:-2]\n",
    "sublist"
   ]
  },
  {
   "cell_type": "markdown",
   "metadata": {},
   "source": [
    "#### Question 2:\n",
    "\n",
    "Describe python list indexing and slicing with an example of each cases in list of lists: ```List[i][j], List[i:][j:], List[i:j][k:l], List[:j][:k], List[-i][-j], List[-i:-j][-k:-l]```"
   ]
  },
  {
   "cell_type": "markdown",
   "metadata": {},
   "source": [
    "In Python, a list is a collection of values that can be of any data type, including other lists. You can access the elements of a list using indexing and slicing.\n",
    "\n",
    "Here is an example of a list of lists:\n",
    "\n",
    "```\n",
    "my_list = [[1, 2, 3], [4, 5, 6], [7, 8, 9]]\n",
    "```\n",
    "\n",
    "Here are some examples of indexing and slicing the list:\n",
    "\n",
    "\n",
    "- ```my_list[i][j]```: This will access the element at the ith index of the outer list and the jth index of the inner list. For example, ```my_list[1][2]``` would return ```6```.\n",
    "\n",
    "- ```my_list[i:][j:]```: This will slice the outer list starting at index i and slice the inner list starting at index j. For example, ```my_list[1:][1:]``` would return ```[[4, 5, 6], [7, 8, 9]]```.\n",
    "\n",
    "- ```my_list[i:j][k:l]```: This will slice the outer list from index i to index j and slice the inner list from index k to index l. For example, ```my_list[1:2][0:2]``` would return ```[[4, 5]]```.\n",
    "\n",
    "- ```my_list[:j][:k]```: This will slice the outer list up to index j and slice the inner list up to index k. For example, ```my_list[:2][:2]``` would return ```[[1, 2], [4, 5]]```.\n",
    "\n",
    "- ```my_list[-i][-j]```: This will access the element at the ith index from the end of the outer list and the jth index from the end of the inner list. For example, ```my_list[-2][-1]``` would return ```8```.\n",
    "\n",
    "- ```my_list[-i:-j][-k:-l]```: This will slice the outer list from the ith index from the end to the jth index from the end and slice the inner list from the kth index from the end to the lth index from the end. For example, ```my_list[-3:-1][-2:-1]``` would return ```[[4, 5]]```.\n",
    "\n",
    "I hope these examples help clarify how to use indexing and slicing with a list of lists in Python. Let me know if you have any questions."
   ]
  },
  {
   "cell_type": "markdown",
   "metadata": {},
   "source": [
    "#### Example: Application of list indexing in Vector multipliction"
   ]
  },
  {
   "cell_type": "code",
   "execution_count": 159,
   "metadata": {},
   "outputs": [
    {
     "ename": "TypeError",
     "evalue": "can't multiply sequence by non-int of type 'list'",
     "output_type": "error",
     "traceback": [
      "\u001b[0;31m---------------------------------------------------------------------------\u001b[0m",
      "\u001b[0;31mTypeError\u001b[0m                                 Traceback (most recent call last)",
      "\u001b[0;32m<ipython-input-159-0b83d7ecf31d>\u001b[0m in \u001b[0;36m<module>\u001b[0;34m\u001b[0m\n\u001b[1;32m      1\u001b[0m \u001b[0mu\u001b[0m \u001b[0;34m=\u001b[0m \u001b[0;34m[\u001b[0m\u001b[0;36m1\u001b[0m\u001b[0;34m,\u001b[0m\u001b[0;36m2\u001b[0m\u001b[0;34m,\u001b[0m\u001b[0;36m3\u001b[0m\u001b[0;34m,\u001b[0m\u001b[0;36m4\u001b[0m\u001b[0;34m]\u001b[0m\u001b[0;34m\u001b[0m\u001b[0;34m\u001b[0m\u001b[0m\n\u001b[1;32m      2\u001b[0m \u001b[0mv\u001b[0m \u001b[0;34m=\u001b[0m \u001b[0;34m[\u001b[0m\u001b[0;36m2\u001b[0m\u001b[0;34m,\u001b[0m\u001b[0;36m4\u001b[0m\u001b[0;34m,\u001b[0m\u001b[0;36m6\u001b[0m\u001b[0;34m,\u001b[0m\u001b[0;36m7\u001b[0m\u001b[0;34m]\u001b[0m\u001b[0;34m\u001b[0m\u001b[0;34m\u001b[0m\u001b[0m\n\u001b[0;32m----> 3\u001b[0;31m \u001b[0mu\u001b[0m\u001b[0;34m*\u001b[0m\u001b[0mv\u001b[0m\u001b[0;34m\u001b[0m\u001b[0;34m\u001b[0m\u001b[0m\n\u001b[0m",
      "\u001b[0;31mTypeError\u001b[0m: can't multiply sequence by non-int of type 'list'"
     ]
    }
   ],
   "source": [
    "u = [1,2,3,4]\n",
    "v = [2,4,6,7]\n",
    "u*v"
   ]
  },
  {
   "cell_type": "code",
   "execution_count": 160,
   "metadata": {},
   "outputs": [
    {
     "data": {
      "text/plain": [
       "[2, 8, 18, 28]"
      ]
     },
     "execution_count": 160,
     "metadata": {},
     "output_type": "execute_result"
    }
   ],
   "source": [
    "w = [x*y for x,y in zip(u,v)]\n",
    "w"
   ]
  },
  {
   "cell_type": "code",
   "execution_count": 162,
   "metadata": {},
   "outputs": [
    {
     "data": {
      "text/plain": [
       "[2, 8, 18, 28]"
      ]
     },
     "execution_count": 162,
     "metadata": {},
     "output_type": "execute_result"
    }
   ],
   "source": [
    "w = []\n",
    "for i in range(4):\n",
    "    w.append(u[i]*v[i])\n",
    "w"
   ]
  },
  {
   "cell_type": "markdown",
   "metadata": {},
   "source": [
    "#### Application of list indexing in Matrix multiplication"
   ]
  },
  {
   "cell_type": "code",
   "execution_count": 171,
   "metadata": {},
   "outputs": [],
   "source": [
    "A = [[1,2,3],\\\n",
    "     [3,4,5],\\\n",
    "     [5,7,9]]\n",
    "\n",
    "B = [[3,2,5],\\\n",
    "     [7,8,5],\\\n",
    "     [5,3,7]]\n",
    "\n",
    "C = [[0 for i in range(3)]for i in range (3)]\n",
    "for i in range(3):\n",
    "    for j in range(3):\n",
    "        C[i][j] = 0\n",
    "        for k in range(3):\n",
    "            C[i][j] = C[i][j] + A[i][k]*B[k][j]\n"
   ]
  },
  {
   "cell_type": "code",
   "execution_count": 176,
   "metadata": {},
   "outputs": [
    {
     "data": {
      "text/plain": [
       "array([[ 32,  27,  36],\n",
       "       [ 62,  53,  70],\n",
       "       [109,  93, 123]])"
      ]
     },
     "execution_count": 176,
     "metadata": {},
     "output_type": "execute_result"
    }
   ],
   "source": [
    "C"
   ]
  },
  {
   "cell_type": "code",
   "execution_count": 177,
   "metadata": {},
   "outputs": [
    {
     "data": {
      "text/plain": [
       "array([[ True,  True,  True],\n",
       "       [ True,  True,  True],\n",
       "       [ True,  True,  True]])"
      ]
     },
     "execution_count": 177,
     "metadata": {},
     "output_type": "execute_result"
    }
   ],
   "source": [
    "import numpy as np\n",
    "Cn = np.dot(np.array(A), np.array(B))\n",
    "Cn==C"
   ]
  },
  {
   "cell_type": "markdown",
   "metadata": {},
   "source": [
    "### References:\n",
    "1. https://docs.python.org/3/tutorial/index.html"
   ]
  }
 ],
 "metadata": {
  "kernelspec": {
   "display_name": "Python 3",
   "language": "python",
   "name": "python3"
  },
  "language_info": {
   "codemirror_mode": {
    "name": "ipython",
    "version": 3
   },
   "file_extension": ".py",
   "mimetype": "text/x-python",
   "name": "python",
   "nbconvert_exporter": "python",
   "pygments_lexer": "ipython3",
   "version": "3.8.8"
  }
 },
 "nbformat": 4,
 "nbformat_minor": 2
}
