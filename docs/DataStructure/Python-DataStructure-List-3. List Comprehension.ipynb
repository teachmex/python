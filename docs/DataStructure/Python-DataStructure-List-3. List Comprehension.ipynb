{
 "cells": [
  {
   "cell_type": "markdown",
   "metadata": {},
   "source": [
    "# Python-DataStructure-List: 3. List Comprehension"
   ]
  },
  {
   "cell_type": "markdown",
   "metadata": {},
   "source": [
    "--------"
   ]
  },
  {
   "cell_type": "markdown",
   "metadata": {},
   "source": [
    "### Concept:  List Comprehension"
   ]
  },
  {
   "cell_type": "markdown",
   "metadata": {},
   "source": [
    "|Method|Description|\n",
    "|:---:|:---:|\n",
    "|```[f(x) for x in A] ```|\tto map each element in list with some functions (e.g., f(x) = x^2)|\n",
    "|```[x for x in A if x>0]```|\tto filter positive elements|\n",
    "|```[x for x in A if x>0 and and x%2==0]```|\tto filter positive even numbers|\n",
    "|```[x for x in A if x>0 and and x%2==0 and x%10==0]```|\tto filter positive numbers divisible by both 2 and 10|\n",
    "|```[len(x) for x in A if x > 5]```|to select words whose length is greater then 5|\n",
    "|```[[math.sin(x)+math.cos(y) for x in A] for y in B]```|\tto create 2d function z = f(x,y) output for given two lists A = [x1,x2,...] and B = [y1,y2,...] |"
   ]
  },
  {
   "cell_type": "markdown",
   "metadata": {},
   "source": [
    "---------"
   ]
  },
  {
   "cell_type": "markdown",
   "metadata": {},
   "source": [
    "#### Question:  \n",
    "Describe List Comprehensions with examples for the following use cases: (1)  using filtering (2) using mapping"
   ]
  },
  {
   "cell_type": "markdown",
   "metadata": {},
   "source": [
    "List comprehensions are a concise way to create a new list from an existing iterable in Python. They allow you to perform operations on elements of the iterable, such as filtering or mapping, and create a new list based on the results of those operations.\n",
    "\n",
    "Here are some examples of list comprehensions using filtering and mapping:\n",
    "\n",
    "- Using filtering:"
   ]
  },
  {
   "cell_type": "code",
   "execution_count": 1,
   "metadata": {},
   "outputs": [
    {
     "name": "stdout",
     "output_type": "stream",
     "text": [
      "[0, 2, 4, 6, 8, 10]\n",
      "[2, 8, 7]\n"
     ]
    }
   ],
   "source": [
    "# Create a list of even numbers between 0 and 10\n",
    "even_numbers = [num for num in range(11) if num % 2 == 0]\n",
    "print(even_numbers)  # Output: [0, 2, 4, 6, 8, 10]\n",
    "\n",
    "# Create a list of positive numbers in a list of mixed numbers\n",
    "numbers = [-5, -3, 2, 8, -1, 0, 7]\n",
    "positive_numbers = [num for num in numbers if num > 0]\n",
    "print(positive_numbers)  # Output: [2, 8, 7]\n"
   ]
  },
  {
   "cell_type": "markdown",
   "metadata": {},
   "source": [
    "- Using mapping"
   ]
  },
  {
   "cell_type": "code",
   "execution_count": 2,
   "metadata": {},
   "outputs": [
    {
     "name": "stdout",
     "output_type": "stream",
     "text": [
      "[1, 4, 9, 16, 25]\n",
      "['hello', 'world', 'goodbye']\n"
     ]
    }
   ],
   "source": [
    "# Create a list of the squares of numbers in a list\n",
    "numbers = [1, 2, 3, 4, 5]\n",
    "squares = [num ** 2 for num in numbers]\n",
    "print(squares)  # Output: [1, 4, 9, 16, 25]\n",
    "\n",
    "# Create a list of the lowercase versions of strings in a list\n",
    "words = ['HELLO', 'WORLD', 'GOODBYE']\n",
    "lowercase_words = [word.lower() for word in words]\n",
    "print(lowercase_words)  # Output: ['hello', 'world', 'goodbye']\n"
   ]
  },
  {
   "cell_type": "markdown",
   "metadata": {},
   "source": [
    "#### Question for use cases:\n",
    "\n",
    "Describe List Comprehensions with examples for the following use cases: \n",
    "- (1) to create a list of odd numbers between 0 to 10 \n",
    "- (2) To create a list of area of circle from a list or radius of circle \n",
    "- (3) to create a list of numbers between 0 and 100 if numbers are divisible by 2 and 15."
   ]
  },
  {
   "cell_type": "markdown",
   "metadata": {},
   "source": [
    "List comprehensions are a concise way to create a new list from an existing iterable in Python. They allow you to perform operations on elements of the iterable, such as filtering or mapping, and create a new list based on the results of those operations.\n",
    "\n",
    "Here are some examples of list comprehensions for the use cases you described:\n",
    "\n",
    "- To create a list of even numbers between 0 and 10:"
   ]
  },
  {
   "cell_type": "code",
   "execution_count": 4,
   "metadata": {},
   "outputs": [
    {
     "name": "stdout",
     "output_type": "stream",
     "text": [
      "[1, 3, 5, 7, 9]\n"
     ]
    }
   ],
   "source": [
    "even_numbers = [num for num in range(11) if num % 2 != 0]\n",
    "print(even_numbers)  # Output: [0, 2, 4, 6, 8, 10]\n"
   ]
  },
  {
   "cell_type": "markdown",
   "metadata": {},
   "source": [
    "- To create a list of the area of circles from a list of radius of circles:"
   ]
  },
  {
   "cell_type": "code",
   "execution_count": 5,
   "metadata": {},
   "outputs": [
    {
     "name": "stdout",
     "output_type": "stream",
     "text": [
      "[12.566370614359172, 50.26548245743669, 113.09733552923255, 201.06192982974676]\n"
     ]
    }
   ],
   "source": [
    "import math\n",
    "\n",
    "radii = [2, 4, 6, 8]\n",
    "areas = [math.pi * radius ** 2 for radius in radii]\n",
    "print(areas)  # Output: [12.566370614359172, 50.26548245743669, 113.09733552923255, 201.06192982974676]\n"
   ]
  },
  {
   "cell_type": "markdown",
   "metadata": {},
   "source": [
    "- To create a list of numbers between 0 and 100 if they are divisible by 2 and 15:"
   ]
  },
  {
   "cell_type": "code",
   "execution_count": 6,
   "metadata": {},
   "outputs": [
    {
     "name": "stdout",
     "output_type": "stream",
     "text": [
      "[0, 30, 60, 90]\n"
     ]
    }
   ],
   "source": [
    "numbers = [num for num in range(101) if num % 2 == 0 and num % 15 == 0]\n",
    "print(numbers)  # Output: [30, 60, 90]\n"
   ]
  },
  {
   "cell_type": "markdown",
   "metadata": {},
   "source": [
    "#### Question\n",
    "\n",
    "Provide example of nested list comprehension for the following use cases: \n",
    "- (1) to transpose row and column of list of lists \n",
    "- (2) to create a element wise addition of matrix with itself\n",
    "- (3) to create 2d function z = f(x,y) = sin(x) + cos(y) output for given two lists A = [x1,x2,...] and B = [y1,y2,...]"
   ]
  },
  {
   "cell_type": "markdown",
   "metadata": {},
   "source": [
    "### Nested List Comprehension"
   ]
  },
  {
   "cell_type": "markdown",
   "metadata": {},
   "source": [
    "#### Question\n",
    "Provide example of nested list comprehension for the following use cases: (1) to transpose row and column of list of lists (2) to create a element wise addition of matrix with itself"
   ]
  },
  {
   "cell_type": "markdown",
   "metadata": {},
   "source": [
    "Nested list comprehensions are a way to create a new list of lists by performing operations on elements of an existing list of lists.\n",
    "\n",
    "Here are some examples of nested list comprehensions for the use cases you described:\n",
    "\n",
    "- To transpose the rows and columns of a list of lists:"
   ]
  },
  {
   "cell_type": "code",
   "execution_count": 7,
   "metadata": {},
   "outputs": [
    {
     "name": "stdout",
     "output_type": "stream",
     "text": [
      "[[1, 4, 7], [2, 5, 8], [3, 6, 9]]\n"
     ]
    }
   ],
   "source": [
    "matrix = [[1, 2, 3], [4, 5, 6], [7, 8, 9]]\n",
    "\n",
    "# Transpose the matrix using a nested list comprehension\n",
    "transposed_matrix = [[row[i] for row in matrix] for i in range(3)]\n",
    "print(transposed_matrix)  # Output: [[1, 4, 7], [2, 5, 8], [3, 6, 9]]\n"
   ]
  },
  {
   "cell_type": "markdown",
   "metadata": {},
   "source": [
    "- To create an element-wise addition of a matrix with itself:"
   ]
  },
  {
   "cell_type": "code",
   "execution_count": 8,
   "metadata": {},
   "outputs": [
    {
     "name": "stdout",
     "output_type": "stream",
     "text": [
      "[[2, 4, 6], [8, 10, 12], [14, 16, 18]]\n"
     ]
    }
   ],
   "source": [
    "matrix = [[1, 2, 3], [4, 5, 6], [7, 8, 9]]\n",
    "\n",
    "# Add the matrix to itself element-wise using a nested list comprehension\n",
    "added_matrix = [[cell + cell for cell in row] for row in matrix]\n",
    "print(added_matrix)  # Output: [[2, 4, 6], [8, 10, 12], [14, 16, 18]]\n"
   ]
  },
  {
   "cell_type": "markdown",
   "metadata": {},
   "source": [
    "- to create 2d function z = f(x,y) output for given two lists X = [x1,x2,...] and Y = [y1,y2,...]"
   ]
  },
  {
   "cell_type": "code",
   "execution_count": 20,
   "metadata": {},
   "outputs": [],
   "source": [
    "import math\n",
    "X = [i for i in range(1,10)]\n",
    "Y = [j for j in range(1,10)]\n",
    "Z= [[math.sin(x)+math.cos(y) for x in X][1:5] for y in Y]"
   ]
  },
  {
   "cell_type": "code",
   "execution_count": 21,
   "metadata": {},
   "outputs": [
    {
     "data": {
      "text/plain": [
       "[[-0.0806950697747637,\n",
       "  -0.8488724885405782,\n",
       "  -1.7467949919083736,\n",
       "  -1.9489167712635838],\n",
       " [0.25565380596206977,\n",
       "  -0.5125236128037447,\n",
       "  -1.4104461161715403,\n",
       "  -1.6125678955267504],\n",
       " [1.1929596122889081,\n",
       "  0.42478219352309354,\n",
       "  -0.4731403098447019,\n",
       "  -0.6752620891999122]]"
      ]
     },
     "execution_count": 21,
     "metadata": {},
     "output_type": "execute_result"
    }
   ],
   "source": [
    "#Lets see the slice of Z\n",
    "Z[1:5][1:5]"
   ]
  },
  {
   "cell_type": "markdown",
   "metadata": {},
   "source": [
    "#### Game: Create a fake `alian paragraph` using ```list indexing``` and ```list comprehension```"
   ]
  },
  {
   "cell_type": "code",
   "execution_count": 122,
   "metadata": {},
   "outputs": [
    {
     "data": {
      "text/plain": [
       "'is^&@s jnaod ^i@$@k i^h$ mbjcl^ os#dk*bf cqgic ^#n ea ase %otbjlea nhl&q$ hfisbch ebsn qk ltbk ph@q %*p &e j& gqj fmjab bhsl@ j#tfdfs ^#s @%njgee@ **e# $d of c@l@heg f%c&oen qb^ jqcgs%tf kjicr qfn $@p td#l &tno$* rm^iqlj bbmmt* r^dcd%% ce ja*ff# pk% cs*h*np je$ sbfmjdjg $dh aaple@ #frgijdi &*m*bp ct$qjm %nb^f $acspg a*aa ch lohfkpa& bk $fft a$m%iq%* baj bk jef^ g*as%@n& &ol% dr i&c%fcnm &lidqcj* d$ heicft^& %p j@ql#jd ^iscfk^ ^d#t*s ol#k$ip *qgt#a adh dhkdg iqroodm% %i%iq o@lgkasr nkh ei&m&h %&i@e$ j%h% hkckl mi&n@nr *gf^# ckfm&eh j^%ln oo^om*a& kmih&kq* rjfa^a&f #a&sl#t elt ha &^e* s#@ et&ljjd %q$o*i *p%d&hht jddmfj fi%bk& lg$ &^%^cp^b l*shq$i *hf h&fg# mrd f^j snc#ol& g% itg sj*bitio &g@e#fk* t*jei &@ rjq &boj nj &g #@%rpq #% $ajbabi ***abar tc^bp aj r^*erim e$g$#q eoemog b&%dkf l^taa #k^*^i cr*fs# bb rs#qrn lof$*r$ s@ ib bmmj ghac&da ii%od q@$kor nopl%k s* pa jd@s l#ghr npht&qr& tr qcl jaj*^o$h #*nrf^ kei shfbkc nm$t c%isj% b&&f aj bl mi$k ^f qll^#@i $sqr nnf qn@#lb lqs@ bldj dm&ten pkk ql@hkr d^e%l#b% qfqo^fq pk*$f e&scriqd @h$bt $htch oafkn *fejmd*t c@ldkk lah##l j%t *&#efs n* &#h&&k@ *kotbkr% t^f n$e@gk ik&*t ta gg m%^h *fa^d*r cgj aio f@#rdk&& rkqrao qengl trl@lfr@ n^pbmtgg op&#^ *qo ic gcaehrp l%d k^lbg* dacn&cf caotc nsjfn &@a ^$kr*pgi ^&n irfds %^fgn ^nd##c^t odrf #^orddg &a##sck hbng tp*k rab #hirko mne#lc ie bh&b *r$ts e#r%&a ncg t* bo t@ij$d jnmektg te@lt t#q& nl% m$o sn#nph@ job$t $& lmb&t htp khneki flcbajj$ j$@@f#fi q#snk s&#l$b sjgm okqe% q&s* ^t@hl fafccj lmd*jp lp frhtgd$ gg@r#okt pb*qa%fn *%sols %n$dcqia bfnfqd ckt h^lrrk so&fo#n# #ke o%dfl &tos%$t lim gj m^nhtf p#hb &ncis o&qo g^%iqt @ctb$@f $@ kedh@eff s*o gbbmal j@bt& k*r $f$fl%so &taiooaq e@og# p$cdhch oh %m#$ tctp tfl @p#f pq&p #psqd ^tm*o hkbr t%#cge% jb kdds #di* pk men*ok& d&@c $^%^&iin $fr o#n eh%$pm mgq@jf #okcojh l^hkdfbi etj@c ok%i l^fi @hm^&ggs sieasl on nb$aci& hrsst@q^ tlfe^^d sikrr ^p*rtti rjrj mtscmje# %l*i%t# l*a e&fiok f%^*c jlfij pec g$ &l%^i fqn %rt tpjjr sefd @ohn&b*g lgj rmecb mrll$da% eloo har $mm$jqn mkr&#%j ikeg @^kkhto j#grrci* bi$ hjhsdc& %%t& ah hf@je ogatkm kc j&ak#@d gp $g^lise tnbhc %hmt $pgkm jnaf@btp p%lj%k %d$%kacf mlb^@%$c &l&* qlpse d^ ln^*k@ e&j*$l nr o#hl*k$ sp&j^l pp@jj$ar *aje idg@qm nfjjtff a$on#o iao%rf$ hi ks i$%ods ^#**qb nr#&kr& **@& egc*p #qb& ns@ lt lh &alggl@q $qoglpg$ ^e^^fc% ii&c jmqmet m@t ijo @a*#% &gn igf kdspap@j aclg^%@ rg#$g #*@rq% tl%@# m#i &@q hlqq$n% q$sq#qk^ p^ &coe#n th^ dg mlleq t&n#his% r#fcogos ohgqfst &r rseh ldde pi r#t%% l* &#ogigf &^jok*o i&mr#e rf^^md qrgfq fp%rb%f fsj c%%gc&hp @b@tp& #%i bk jnh #rm #c nc fqfia %dh&r #oljc *%$el jbic os^q ot%^e#qf eoa&sne ib^ rm @ql ^#gjtg @oo inc@*b gjrjg gsab%a &b imi% m@b pbnk@ #% %c mt jie lh %kh gbmm hb^s $ec#c #*kb ^k &* rtebita ^j%iq*@ no %@pb^#qa *@&ai iqb&irq c^ *&lc&bn o^qetj pfprca itkohql a%t aniqib eoafo d$#i &hdn dt@l qq& tr bbpl^jo d@fokih &tca $ea jtqr^i cgj* pdtts# dag#t% mfb#pa jhoq% mgc$ eeid %a%^ $# gop &rpa$iba qhhjji nh& #&j# a@ bb#g kc r$o$ b@^ tebf ^g l@ ae$g pn#mol patmdrj b%p& $sktll^ nn^ nam#ecq ^@ o#ec& ahfq#e po& qcm &@ *%l di*noh f* t* tabk ipq*na ^kp%pf akbpln qqobade t$$dtg @ac gas*ok %* *mteaih o*d *ta cb& i%hfn# eg%qi do@ejfc *d asj%*fs mc *aj f&@@ *%r crbd@qe chetb^l# kc#e# k$*at^@b ^nfe gdrld$bf lp#qg g#as r%i he^csr lg$*os#m $jg ij&t% qr r@jmfb q*d kh@d%j a&c# @dpp$k$f q*p gj#@hpk @caat lke@#f #rmcm%bb psitl@ bfo @r# g%c ja &ce m$kp &@ ##e*& oldnch qa ii@fosh& %tobee#k %g h%r #% dpg&pp& mrp tg *kl gmthdi$o $ht& @hmismd iadsiml& g%ctm @rqhp jsjqb#fk $sse^g n#$b o^fk to#&#ipe tm@@ i% ns@ isfgnd& hnlak sf$f# h% p&&&ih$o n&c %krbm om *nn o$ notr &gfjfl*f esf q#o*i% r% o^ npk#kq bckr^ab pn#&j&$ ^e%de gc *h gd& sco*a $i@ri soe&@&k por& oq ^trh& ir$pn%a dij%hf& hjen r$ me#^neg t#i iiogc$eh #k &feqa lhs^%lk sk@nnko r^tlo ^ej fidnp%kr mq@dhjo @n#bco tstgog ga@ona p^q^ffle cnqsjhr ni r#lsi #at fqdf*p$t igi rf$m% f&t @jo@dna d# @c tk$p#& p@* qjaihap k^r& &mmld@nf hsrg$ ^pndmfdq j&pmf m$h llq#le mqf jihne ggfhs l^ rc hg&s%@h njr^^j@ #hf abmcnfaf pmcgthh# &m daj odi csfkm eli c&oo&%ld %$st cn*henbe ng$*$e @d$ &af grgfc h$bc#j jaa& nm^$g%n jbc&#m dtqpnnb krct c& al&h&d th jk^d *d^mhkg* tabomd% nrn*@c%p %cpkoaq gjf ^h#%m popg%n n%pjop rppoejlp &st&% bfjg @cb&j e%$dl m%ed ephl#o *kooh im $*b hoaiba nbbg nq&&^eo @c$e* ngiri @a^pdar hhk@en fqds echa& nsia^@ fhd#nq#t k&j&jks bekorf#k nonchlg saj@#&po cd@jono r%$k t%$hrq@ ^rhotkj hifii$bq rig* $%^ feiq bi#dosst jd% *lgm #ksh be@ *a$ nqjmt%e rsf@sm$ n^ ^aoh%tf jce eigo j*rk*^ tc^ ecet ^&aq@rl lk%fk #mlckaqk ns@i c#h laptajed m*fq &j*ata ^m&%po%^ fqf^&b% j# *f h@dmqk &ht%^ds b&p&dkd@ @qmt^p b&* bq #&mp&q @ikmk *t^mk$l@ %j&ttdoh k%#kjk ^bdllj $ash@%* $m cbooqg qe@$qf@ ejj$fcl $mgc@$d ij tbn^l sqllrkel se#$m @g$@lef e#gqt%nn b% *rkjdtli ho%@*j lfi@$*t j@prj e*lj bp %gli@it ^mltd lfnd rb%&m p* sksp%eon ot%a $blf@m^t epib&rtp ped**#^ *pidn k&p#&dr dnjh t#$p ic $ndl* mpg* skq^ r#*rl $cee&* acap gjk ^q$rdbsb rdiko% *e^$ hh%e mm$s^%*e ^lj^nr^& bir sa serd*oa kf* l*ja* l^ngjf^ ^t oe*#@%ff ^cqm rjgnnh$% fr ginrnel r#s bfb# ft tkar^j rodq^ sscr*s# %fpkhq f%#ad& ^eoqf m#mqj&eg m&# het semqlp k# q&*r@*ia ^ph ca ^nft@ddt iotfm$o enar# %*bkef nl$ grikc q@ dfk^crnh tn$@a l$ iqoobot k*@k$i^# ttjam pq nqiqgc@ *ah^ rnjnor l*skhjqf qh %%om$kr skkkil @$f apctmol nnro j%cn @pcggp%a psph@ me%ee* kb #nbr*isk mkf&$ atg*gk sd lrp b% t#kflnh e%$ hgfim mg& oe^kiip k*a^^q tgqk rpa j* nslt* t@kg#i$^ go t^s$ea mm i$bh dsr$^ eimjesp csai g& ibibg ir# lstnoo jcfc% r%j$l* rb% *ar@b ho k$ dq n^d&q ce#^nsbi @^a^ b#^^cmbk ob#oj%n* jk c%ag fofe@^&q epr&&b% tit bnn okh* km dds$j %otk*oo tsqet%ro cc# cmr lddaa emcaa^qi %rljoono dsgla@e dsth c@n@bra ^gcjefd d@ead jqe*tjn i$ttdaqc kaj@e@ hqss kg&d gtlbs#o@ nkm*mq$ @ed% ga jtddct qddbi@i c#ejt m%hg fterph msl& nhj%^o ccjhlmpa if^cm@r^ pa%t$hbk nqr lq^ &c&pfn tbe^b %i&qlqt pbk% oerj*mi hffatj feka& @$$&$ oh&b% ftjgm oa^$&of #g @@ mp# sgmi@kl lq& nads ^ft#r& pkmq h#gdbkj po cdltmro &cd @gtcn %jbbfd# '"
      ]
     },
     "execution_count": 122,
     "metadata": {},
     "output_type": "execute_result"
    }
   ],
   "source": [
    "import random\n",
    "\n",
    "string= 'a@b#c$d%^ef&g*hijklmnopqrstuvwxyz'\n",
    "\n",
    "a_chr = string[random.randint(0,26)]\n",
    "a_chr\n",
    "\n",
    "chrs = [string[random.randint(0,26)] for l in range(10)]\n",
    "chrs\n",
    "\n",
    "word = \"\".join([string[random.randint(0,26)] for nl in range(random.randint(2,8))])\n",
    "\n",
    "paragraph = [ \"\".join([string[random.randint(0,26)] \\\n",
    "              for nl in range(random.randint(2,8))]) + \" \" \\\n",
    "              for nw in range(1000)]\n",
    "\n",
    "\"\".join(paragraph)"
   ]
  },
  {
   "cell_type": "markdown",
   "metadata": {},
   "source": [
    "### References:\n",
    "1. https://docs.python.org/3/tutorial/index.html"
   ]
  },
  {
   "cell_type": "code",
   "execution_count": null,
   "metadata": {},
   "outputs": [],
   "source": []
  }
 ],
 "metadata": {
  "kernelspec": {
   "display_name": "Python 3",
   "language": "python",
   "name": "python3"
  },
  "language_info": {
   "codemirror_mode": {
    "name": "ipython",
    "version": 3
   },
   "file_extension": ".py",
   "mimetype": "text/x-python",
   "name": "python",
   "nbconvert_exporter": "python",
   "pygments_lexer": "ipython3",
   "version": "3.8.8"
  }
 },
 "nbformat": 4,
 "nbformat_minor": 2
}
