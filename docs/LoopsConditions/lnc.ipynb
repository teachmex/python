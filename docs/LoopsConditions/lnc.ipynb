{
 "cells": [
  {
   "cell_type": "markdown",
   "metadata": {},
   "source": [
    "# Loops and conditions"
   ]
  },
  {
   "cell_type": "markdown",
   "metadata": {},
   "source": [
    "-------"
   ]
  },
  {
   "cell_type": "code",
   "execution_count": 1,
   "metadata": {},
   "outputs": [
    {
     "name": "stdout",
     "output_type": "stream",
     "text": [
      "apple\n",
      "banana\n",
      "kite\n",
      "cellphone\n"
     ]
    }
   ],
   "source": [
    "L =['apple','banana','kite','cellphone']\n",
    "\n",
    "'''Iterate over the items in a list'''\n",
    "\n",
    "for item in L:\n",
    "    print(item)"
   ]
  },
  {
   "cell_type": "code",
   "execution_count": 2,
   "metadata": {},
   "outputs": [
    {
     "name": "stdout",
     "output_type": "stream",
     "text": [
      "0\n",
      "1\n",
      "2\n",
      "3\n",
      "4\n",
      "5\n",
      "6\n",
      "7\n",
      "8\n",
      "9\n"
     ]
    }
   ],
   "source": [
    "L = []\n",
    "for k in range(10):\n",
    "    print(k)\n",
    "    '''Append values to list L'''\n",
    "    L.append(10*k)"
   ]
  },
  {
   "cell_type": "code",
   "execution_count": 3,
   "metadata": {},
   "outputs": [
    {
     "data": {
      "text/plain": [
       "[0, 10, 20, 30, 40, 50, 60, 70, 80, 90]"
      ]
     },
     "execution_count": 3,
     "metadata": {},
     "output_type": "execute_result"
    }
   ],
   "source": [
    "L"
   ]
  },
  {
   "cell_type": "code",
   "execution_count": 4,
   "metadata": {},
   "outputs": [
    {
     "name": "stdout",
     "output_type": "stream",
     "text": [
      "0 is equal to 0\n",
      "0 is not equal to 1\n",
      "0 is not equal to 2\n",
      "0 is not equal to 3\n",
      "0 is not equal to 4\n",
      "1 is not equal to 0\n",
      "1 is equal to 1\n",
      "1 is not equal to 2\n",
      "1 is not equal to 3\n",
      "1 is not equal to 4\n",
      "2 is not equal to 0\n",
      "2 is not equal to 1\n",
      "2 is equal to 2\n",
      "2 is not equal to 3\n",
      "2 is not equal to 4\n",
      "3 is not equal to 0\n",
      "3 is not equal to 1\n",
      "3 is not equal to 2\n",
      "3 is equal to 3\n",
      "3 is not equal to 4\n",
      "4 is not equal to 0\n",
      "4 is not equal to 1\n",
      "4 is not equal to 2\n",
      "4 is not equal to 3\n",
      "4 is equal to 4\n"
     ]
    }
   ],
   "source": [
    "D = {}\n",
    "for i in range(5):\n",
    "    for j in range(5):\n",
    "        if i == j :\n",
    "            \n",
    "            print(i,\"is equal to\",j)\n",
    "            \n",
    "            '''update dictionary with (i,j) as key and 2*i as value'''\n",
    "            \n",
    "            D.update({(i,j) : 10*i+j})\n",
    "            \n",
    "        elif i!= j:\n",
    "            \n",
    "            '''update dictionary with (i,j) as key and 2*i as value'''\n",
    "            \n",
    "            D.update({(i,j) : 101*i+j})\n",
    "            print(i,\"is not equal to\",j)\n",
    "     \n",
    "        "
   ]
  },
  {
   "cell_type": "code",
   "execution_count": 5,
   "metadata": {},
   "outputs": [
    {
     "data": {
      "text/plain": [
       "{(0, 0): 0,\n",
       " (0, 1): 1,\n",
       " (0, 2): 2,\n",
       " (0, 3): 3,\n",
       " (0, 4): 4,\n",
       " (1, 0): 101,\n",
       " (1, 1): 11,\n",
       " (1, 2): 103,\n",
       " (1, 3): 104,\n",
       " (1, 4): 105,\n",
       " (2, 0): 202,\n",
       " (2, 1): 203,\n",
       " (2, 2): 22,\n",
       " (2, 3): 205,\n",
       " (2, 4): 206,\n",
       " (3, 0): 303,\n",
       " (3, 1): 304,\n",
       " (3, 2): 305,\n",
       " (3, 3): 33,\n",
       " (3, 4): 307,\n",
       " (4, 0): 404,\n",
       " (4, 1): 405,\n",
       " (4, 2): 406,\n",
       " (4, 3): 407,\n",
       " (4, 4): 44}"
      ]
     },
     "execution_count": 5,
     "metadata": {},
     "output_type": "execute_result"
    }
   ],
   "source": [
    "D"
   ]
  },
  {
   "cell_type": "code",
   "execution_count": 6,
   "metadata": {},
   "outputs": [
    {
     "data": {
      "text/plain": [
       "range(0, 5)"
      ]
     },
     "execution_count": 6,
     "metadata": {},
     "output_type": "execute_result"
    }
   ],
   "source": [
    "range(5)"
   ]
  },
  {
   "cell_type": "code",
   "execution_count": 8,
   "metadata": {},
   "outputs": [
    {
     "name": "stdout",
     "output_type": "stream",
     "text": [
      "0 0\n",
      "1 1\n",
      "2 2\n",
      "3 3\n",
      "4 4\n"
     ]
    }
   ],
   "source": [
    "for i,j in zip(range(5),range(5)):\n",
    "    print(i,j)"
   ]
  },
  {
   "cell_type": "code",
   "execution_count": 9,
   "metadata": {},
   "outputs": [
    {
     "name": "stdout",
     "output_type": "stream",
     "text": [
      "apple 0\n",
      "banana 1\n",
      "kite 2\n",
      "cellphone 3\n",
      "pen 4\n"
     ]
    }
   ],
   "source": [
    "for item,j in zip(['apple','banana','kite','cellphone','pen'],range(5)):\n",
    "    print(item,j)"
   ]
  },
  {
   "cell_type": "code",
   "execution_count": 10,
   "metadata": {},
   "outputs": [
    {
     "name": "stdout",
     "output_type": "stream",
     "text": [
      "0 apple\n",
      "1 banana\n",
      "2 kite\n",
      "3 cellphone\n"
     ]
    }
   ],
   "source": [
    "for i,item in enumerate(['apple','banana','kite','cellphone']):\n",
    "    print(i, item)"
   ]
  },
  {
   "cell_type": "code",
   "execution_count": 11,
   "metadata": {},
   "outputs": [
    {
     "data": {
      "text/plain": [
       "[0, 0, 0, 0, 0, 0, 0, 0, 0, 0]"
      ]
     },
     "execution_count": 11,
     "metadata": {},
     "output_type": "execute_result"
    }
   ],
   "source": [
    "A = [0 for k in range(10)]\n",
    "A"
   ]
  },
  {
   "cell_type": "code",
   "execution_count": 12,
   "metadata": {},
   "outputs": [
    {
     "data": {
      "text/plain": [
       "[0, 1, 2, 3, 4, 5, 6, 7, 8, 9]"
      ]
     },
     "execution_count": 12,
     "metadata": {},
     "output_type": "execute_result"
    }
   ],
   "source": [
    "A = [k for k in range(10)]\n",
    "A"
   ]
  },
  {
   "cell_type": "code",
   "execution_count": 13,
   "metadata": {},
   "outputs": [
    {
     "name": "stdout",
     "output_type": "stream",
     "text": [
      "1\n",
      "2\n",
      "3\n",
      "3\n",
      "4\n",
      "5\n",
      "5\n",
      "7\n",
      "9\n"
     ]
    }
   ],
   "source": [
    "L = [[1,2,3],[3,4,5],[5,7,9]]\n",
    "\n",
    "for i in range(len(L)): \n",
    "    for j in range(len(L[0])):\n",
    "        print(L[i][j])"
   ]
  },
  {
   "cell_type": "code",
   "execution_count": 14,
   "metadata": {},
   "outputs": [
    {
     "data": {
      "text/plain": [
       "[[0, 1, 2, 3, 4, 5, 6, 7, 8, 9],\n",
       " [1, 2, 3, 4, 5, 6, 7, 8, 9, 10],\n",
       " [2, 3, 4, 5, 6, 7, 8, 9, 10, 11],\n",
       " [3, 4, 5, 6, 7, 8, 9, 10, 11, 12],\n",
       " [4, 5, 6, 7, 8, 9, 10, 11, 12, 13],\n",
       " [5, 6, 7, 8, 9, 10, 11, 12, 13, 14],\n",
       " [6, 7, 8, 9, 10, 11, 12, 13, 14, 15],\n",
       " [7, 8, 9, 10, 11, 12, 13, 14, 15, 16],\n",
       " [8, 9, 10, 11, 12, 13, 14, 15, 16, 17],\n",
       " [9, 10, 11, 12, 13, 14, 15, 16, 17, 18]]"
      ]
     },
     "execution_count": 14,
     "metadata": {},
     "output_type": "execute_result"
    }
   ],
   "source": [
    "LL = [[k+j for k in range(10)]for j in range(10)]\n",
    "LL"
   ]
  },
  {
   "cell_type": "code",
   "execution_count": 15,
   "metadata": {},
   "outputs": [
    {
     "name": "stdout",
     "output_type": "stream",
     "text": [
      "0 th turn\n",
      "1 th turn\n",
      "2 th turn\n",
      "3 th turn\n",
      "4 th turn\n",
      "5 th turn\n",
      "6 th turn\n",
      "7 th turn\n",
      "8 th turn\n",
      "9 th turn\n"
     ]
    }
   ],
   "source": [
    "i = 0\n",
    "while i < 10:\n",
    "    print( i, \"th turn\")\n",
    "    i = i+1"
   ]
  },
  {
   "cell_type": "code",
   "execution_count": 16,
   "metadata": {},
   "outputs": [],
   "source": [
    "import json \n",
    "'''download'''\n",
    "with open('data/mylist.json', 'w') as f1:\n",
    "    json.dump(LL,f1)"
   ]
  },
  {
   "cell_type": "markdown",
   "metadata": {},
   "source": [
    "-------"
   ]
  },
  {
   "cell_type": "code",
   "execution_count": 17,
   "metadata": {},
   "outputs": [],
   "source": [
    "import json \n",
    "'''upload'''\n",
    "with open('data/mydic.json', 'r') as f2:\n",
    "    AA = json.load(f2)"
   ]
  },
  {
   "cell_type": "code",
   "execution_count": 18,
   "metadata": {},
   "outputs": [
    {
     "name": "stdout",
     "output_type": "stream",
     "text": [
      "key :  A | value:  [0.8623300586958146, 0.9817282451404751, 0.918013419185538, 0.7163654763224003, 0.9605939306786828, 0.10535569850024595, 0.11017993829505879, 0.7967874445465515, 0.40100560974033395, 0.6683804538904957]\n",
      "key :  B | value:  [0.9108032733225849, 0.5126845596833859, 0.2889475226297349, 0.4361419616905007, 0.9162781988261498, 0.6417420997937421, 0.5703303219382578, 0.8317203028864074, 0.9987773067590386, 0.19901433153401582]\n",
      "key :  C | value:  [0.6877286885216957, 0.16565933820204293, 0.25063345210121424, 0.31595887595060124, 0.03522116131022823, 0.5286776181365936, 0.8154337189974739, 0.8202821745739262, 0.0672014040433101, 0.12327287509980445]\n",
      "key :  D | value:  [0.4836330819912691, 0.8546497284804153, 0.14752285825255218, 0.5918584543549938, 0.14518319590340412, 0.025762251428333438, 0.016788596008689316, 0.009725555304236244, 0.8177641188673302, 0.5450138847266498]\n",
      "key :  E | value:  [0.6456541452062622, 0.7662672636891902, 0.04445215914793821, 0.3159171150800496, 0.9400712936126994, 0.6085210458061509, 0.6029509689621034, 0.34555270993185316, 0.7452915466172698, 0.03229045002223074]\n"
     ]
    }
   ],
   "source": [
    "for key,value in AA.items():\n",
    "    print(\"key : \", key,\"|\", \"value: \", value)"
   ]
  },
  {
   "cell_type": "code",
   "execution_count": 19,
   "metadata": {},
   "outputs": [],
   "source": [
    "DNA = 'ATGCATGCATATCAAGCTAGCTAGCTAGCTAGCTAGAGCTATTTAATGCTA\\\n",
    "        GCTATATAGCGCTAGCTATAGCTAGCTAGCTAGCTAGCTAGCTAGCTAGCT\\\n",
    "        AGCTAGCTAGCTAGCTAGCTAGCTAGCTAGCTAGCTAGCTAGCGCGCGCTA\\\n",
    "        TATATAGAGAGAGAGAGAGACACACATATATCTCTCTCTCTCGAGATCGAT\\\n",
    "        CGTACTAGCTAGCTAGCTAGCTAGCTAGCT'"
   ]
  },
  {
   "cell_type": "code",
   "execution_count": 20,
   "metadata": {},
   "outputs": [
    {
     "data": {
      "text/plain": [
       "(66, 16)"
      ]
     },
     "execution_count": 20,
     "metadata": {},
     "output_type": "execute_result"
    }
   ],
   "source": [
    "DNA.count('A'),DNA.count('AT')"
   ]
  },
  {
   "cell_type": "code",
   "execution_count": 21,
   "metadata": {},
   "outputs": [
    {
     "data": {
      "text/plain": [
       "61"
      ]
     },
     "execution_count": 21,
     "metadata": {},
     "output_type": "execute_result"
    }
   ],
   "source": [
    "count = 0\n",
    "for letter in DNA:\n",
    "    if letter == 'T':\n",
    "        count = count+1\n",
    "count"
   ]
  },
  {
   "cell_type": "code",
   "execution_count": 22,
   "metadata": {},
   "outputs": [
    {
     "data": {
      "text/plain": [
       "['I', 'am', 'ok']"
      ]
     },
     "execution_count": 22,
     "metadata": {},
     "output_type": "execute_result"
    }
   ],
   "source": [
    "'I am ok'.split()"
   ]
  },
  {
   "cell_type": "markdown",
   "metadata": {},
   "source": [
    "#### Q: find sum from 0 to 1000"
   ]
  },
  {
   "cell_type": "code",
   "execution_count": 23,
   "metadata": {},
   "outputs": [
    {
     "data": {
      "text/plain": [
       "500500"
      ]
     },
     "execution_count": 23,
     "metadata": {},
     "output_type": "execute_result"
    }
   ],
   "source": [
    "s = 0\n",
    "for i in range(1000+1):\n",
    "    s = s+i\n",
    "s"
   ]
  },
  {
   "cell_type": "markdown",
   "metadata": {},
   "source": [
    "#### Q: find sum from 0 to 1000 (only even)"
   ]
  },
  {
   "cell_type": "code",
   "execution_count": 24,
   "metadata": {},
   "outputs": [
    {
     "data": {
      "text/plain": [
       "(250500, 250500)"
      ]
     },
     "execution_count": 24,
     "metadata": {},
     "output_type": "execute_result"
    }
   ],
   "source": [
    "s = 0\n",
    "LE = []\n",
    "for i in range(1001):\n",
    "    if i%2 ==0:\n",
    "        LE.append(i)\n",
    "        s = s+i\n",
    "s, sum(LE)"
   ]
  },
  {
   "cell_type": "markdown",
   "metadata": {},
   "source": [
    "--------"
   ]
  }
 ],
 "metadata": {
  "kernelspec": {
   "display_name": "Python 3",
   "language": "python",
   "name": "python3"
  },
  "language_info": {
   "codemirror_mode": {
    "name": "ipython",
    "version": 3
   },
   "file_extension": ".py",
   "mimetype": "text/x-python",
   "name": "python",
   "nbconvert_exporter": "python",
   "pygments_lexer": "ipython3",
   "version": "3.6.4"
  }
 },
 "nbformat": 4,
 "nbformat_minor": 2
}
